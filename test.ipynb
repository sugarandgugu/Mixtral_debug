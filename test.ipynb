import torch
# 下面是第0个专家的mask 第0个专家在第一行需要计算 3 6 8列 位置的token 在第二行需要计算 11, 15列的token
# 也就是说第一行 位置为3 6 8 需要专家0计算同列第二行也是
# 因为是选了两个专家，所以有两行，也就是说第一行是专家0算的，第二行也是专家0算的token 
test = torch.tensor([[0, 0, 0, 1, 0, 0, 1, 0, 1, 0, 0, 0, 0, 0, 0, 0, 0, 0, 0, 0],
        [0, 0, 0, 0, 0, 0, 0, 0, 0, 0, 0, 1, 0, 0, 0, 1, 0, 0, 0, 0]])

'''
    idx,top_x = torch.where(condition) idx代表是哪一行的数据,top_x代表这一行数据的哪一列的下标
    torch.where(condition, x, y)  x,y代表两个张量,当condition为True时,返回x,否则返回y
'''

idx, top_x = torch.where(test)
idx, top_x
